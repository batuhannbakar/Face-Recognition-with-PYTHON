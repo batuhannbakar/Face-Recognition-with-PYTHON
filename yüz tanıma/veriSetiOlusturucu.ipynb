{
 "cells": [
  {
   "cell_type": "code",
   "execution_count": 1,
   "metadata": {},
   "outputs": [
    {
     "name": "stdout",
     "output_type": "stream",
     "text": [
      "ID numarası giriniz4\n"
     ]
    }
   ],
   "source": [
    "import cv2\n",
    "cam = cv2.VideoCapture(0)\n",
    "detector=cv2.CascadeClassifier('face.xml')\n",
    "i=0\n",
    "\n",
    "kisi_id=input('ID numarası giriniz')\n",
    "while True:\n",
    "    _, img =cam.read()\n",
    "    gray=cv2.cvtColor(img, cv2.COLOR_BGR2GRAY)\n",
    "    faces=detector.detectMultiScale(gray, scaleFactor=1.2, minNeighbors=5, minSize=(100, 100), flags=cv2.CASCADE_SCALE_IMAGE)\n",
    "    for(x,y,w,h) in faces:\n",
    "        i=i+1\n",
    "        cv2.imwrite(\"yuzwerileri/face-\" + kisi_id + '.' + str(i) + \".jpg\", gray[y:y + h , x :x + w])\n",
    "        cv2.rectangle(img, (x , y), (x + w, y + h), (225, 0, 0), 2)\n",
    "        cv2.imshow('resim', img[y :y + h, x :x + w])\n",
    "        cv2.waitKey(100)\n",
    "    if i>20:\n",
    "        cam.release()\n",
    "        cv2.destroyAllWindows()\n",
    "        break\n",
    "        \n",
    "\n"
   ]
  },
  {
   "cell_type": "code",
   "execution_count": null,
   "metadata": {},
   "outputs": [],
   "source": []
  },
  {
   "cell_type": "code",
   "execution_count": null,
   "metadata": {},
   "outputs": [],
   "source": []
  }
 ],
 "metadata": {
  "kernelspec": {
   "display_name": "Python 3",
   "language": "python",
   "name": "python3"
  },
  "language_info": {
   "codemirror_mode": {
    "name": "ipython",
    "version": 3
   },
   "file_extension": ".py",
   "mimetype": "text/x-python",
   "name": "python",
   "nbconvert_exporter": "python",
   "pygments_lexer": "ipython3",
   "version": "3.6.7"
  }
 },
 "nbformat": 4,
 "nbformat_minor": 2
}
