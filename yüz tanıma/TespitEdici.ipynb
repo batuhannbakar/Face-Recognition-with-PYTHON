{
 "cells": [
  {
   "cell_type": "code",
   "execution_count": null,
   "metadata": {},
   "outputs": [],
   "source": [
    "import cv2\n",
    "recognizer=cv2.face.LBPHFaceRecognizer_create()\n",
    "recognizer.read('training/trainer.yml')\n",
    "cascadePath = \"face.xml\"\n",
    "faceCascade = cv2.CascadeClassifier(cascadePath)\n",
    "path = 'yuzwerileri'\n",
    "\n",
    "cam = cv2.VideoCapture(0)\n",
    "while True:\n",
    "    ret, im =cam.read()\n",
    "    gray=cv2.cvtColor(im,cv2.COLOR_BGR2GRAY)\n",
    "    faces=faceCascade.detectMultiScale(gray, scaleFactor=1.2, minNeighbors=5, minSize=(100, 100), flags=cv2.CASCADE_SCALE_IMAGE)\n",
    "    for(x,y,w,h) in faces:\n",
    "        tahmin, conf = recognizer.predict(gray[y:y + h, x:x + w])\n",
    "        cv2.rectangle(im,(x,y),(x+w,y+h),(225,0,0),2)\n",
    "        if(tahmin == 4):\n",
    "            tahmin = 'SEMIH'\n",
    "        elif (tahmin ==2 ):\n",
    "            tahmin = 'batu'\n",
    "      \n",
    "        else :\n",
    "            tahmin = \"Bilinmeyen kisi!!\"\n",
    "        fontFace = cv2.FONT_HERSHEY_SIMPLEX\n",
    "        fontScale = 1\n",
    "        fontColor = (255, 255, 255)\n",
    "        cv2.putText(im, str(tahmin), (x, y + h), fontFace, fontScale, fontColor)\n",
    "        cv2.imshow('foto',im)\n",
    "        cv2.waitKey(10)"
   ]
  },
  {
   "cell_type": "code",
   "execution_count": null,
   "metadata": {},
   "outputs": [],
   "source": []
  }
 ],
 "metadata": {
  "kernelspec": {
   "display_name": "Python 3",
   "language": "python",
   "name": "python3"
  },
  "language_info": {
   "codemirror_mode": {
    "name": "ipython",
    "version": 3
   },
   "file_extension": ".py",
   "mimetype": "text/x-python",
   "name": "python",
   "nbconvert_exporter": "python",
   "pygments_lexer": "ipython3",
   "version": "3.6.7"
  }
 },
 "nbformat": 4,
 "nbformat_minor": 2
}
